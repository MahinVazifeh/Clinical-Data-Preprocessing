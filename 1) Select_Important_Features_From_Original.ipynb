{
 "cells": [
  {
   "cell_type": "code",
   "execution_count": null,
   "metadata": {
    "id": "YHqDTXnEKVM9"
   },
   "outputs": [],
   "source": [
    "import numpy as np\n",
    "import pandas as pd\n",
    "import seaborn as sea\n",
    "import matplotlib.pyplot as plt\n",
    "from sklearn import preprocessing"
   ]
  },
  {
   "cell_type": "code",
   "execution_count": null,
   "metadata": {
    "id": "OAN4g6mJRjU2"
   },
   "outputs": [],
   "source": [
    "xls = pd.ExcelFile('/content/drive/MyDrive/Project/Paper1/Data/Clinical Data/Original.xlsx')\n",
    "Sheet_4 = pd.read_excel(xls, 'Visite')\n",
    "Sheet_1 = pd.read_excel(xls, 'Anagrafica')\n",
    "data1 = Sheet_4.copy()\n",
    "data2 = Sheet_1.copy()\n",
    "# In order to optain statis features, We need to merge to sheet together\n",
    "final_data = pd.merge(data1,data2,how = 'left', left_on=['Paziente ID'], right_on = ['Paziente ID'])\n",
    "final_data.columns"
   ]
  },
  {
   "cell_type": "code",
   "execution_count": null,
   "metadata": {
    "id": "-0DMNIQLMzT8"
   },
   "outputs": [],
   "source": [
    "#Select important feature to impute\n",
    "final_data = final_data[[\"Id\", \"Paziente ID\",'Data visita','Piramidale','Cerebellare','Troncoencefalica','Sensitiva','Sfinteriche',\n",
    "                         'Visiva','Mentali','Deambulazione','Punteggio EDSS valutato dal clinico','Data di nascita',\n",
    "                         'Data di morte','Sesso','SM in età pedriatrica']]\n",
    "\n",
    "# Translate the header\n",
    "final_data.columns = ['Id', 'Patient_ID', 'Date_of_visit', 'Pyramidal', 'Cerebellar',\n",
    "       'Thronchioencephalic', 'Sensitive', 'Sphincteric', 'Visual', 'Mental',\n",
    "       'Deambulation','EDSS_score_assessed_by_clinician', 'Date of birth',\n",
    "       'Data of death','Sex', 'MS in pediatric age']\n",
    "\n",
    "\n",
    "# Remove patient without target value (Y) and converting object feature to datetime\n",
    "final_data = final_data[final_data['EDSS_score_assessed_by_clinician'].notna()]\n",
    "final_data['Date_of_visit'] = pd.to_datetime(final_data['Date_of_visit'])\n",
    "final_data['Date of birth'] = pd.to_datetime(final_data['Date of birth'])\n",
    "\n",
    "\n",
    "le = preprocessing.LabelEncoder() # Use LabelEncoder to assign a label to each string Sex and MS in pediatric age feature.\n",
    "final_data['Sex'] = le.fit_transform(final_data['Sex']) # 0 = Female, 1 = Male\n",
    "final_data['MS in pediatric age'] = le.fit_transform(final_data['MS in pediatric age']) # 0 = NO, 1 = Yes\n",
    "\n",
    "(final_data.isnull().sum()/ len(final_data))*100 # Missingness rate for each feature\n",
    "\n",
    "patient_number = len(np.unique(final_data['Patient_ID'])) # Getting the number of patient\n",
    "followup_count_patient = final_data.groupby('Patient_ID')['Id'].count().reset_index() #Getting the number of followup data for each patient"
   ]
  },
  {
   "cell_type": "code",
   "execution_count": null,
   "metadata": {
    "id": "R_Lw9KrEQxSq"
   },
   "outputs": [],
   "source": [
    "# Delete patients with only one onservation which is completely missing\n",
    "final_data_1 = final_data.copy() \n",
    "for i in np.unique(final_data_1[\"Patient_ID\"]):\n",
    "    patient_data = final_data_1[final_data_1[\"Patient_ID\"]==i]\n",
    "    missing_rate = (patient_data.isnull().sum(axis=1)/patient_data.shape[1])*100\n",
    "    if len(patient_data)==1 and missing_rate.values[0]>=50:\n",
    "    final_data_1.drop(patient_data.index, inplace=True)"
   ]
  },
  {
   "cell_type": "code",
   "execution_count": null,
   "metadata": {
    "id": "IH0wDpukhpCx"
   },
   "outputs": [],
   "source": [
    "final_data_1['Date_of_visit'] = pd.to_datetime(final_data_1['Date_of_visit'])\n",
    "final_data_1['Date of birth'] = pd.to_datetime(final_data_1['Date of birth'])\n",
    "visit_time = np.array(final_data_1['Date_of_visit'])\n",
    "birth_time = np.array(final_data_1['Date of birth'])\n",
    "visit_year = np.array(visit_time, dtype='datetime64[Y]')\n",
    "birth_year = np.array(birth_time, dtype='datetime64[Y]')\n",
    "visit_month = np.array(visit_time, dtype='datetime64[M]')\n",
    "birth_month = np.array(birth_time, dtype='datetime64[M]')\n",
    "visit_day = np.array(visit_time, dtype='datetime64[D]')\n",
    "birth_day = np.array(birth_time, dtype='datetime64[D]')\n",
    "age = visit_year - birth_year - ((visit_month < birth_month) | ((visit_month == birth_month) & (visit_day < birth_day)))\n",
    "final_data_1.to_csv(\"Updated_MS.csv\", index= False)"
   ]
  }
 ],
 "metadata": {
  "colab": {
   "provenance": []
  },
  "kernelspec": {
   "display_name": "Python 3 (ipykernel)",
   "language": "python",
   "name": "python3"
  },
  "language_info": {
   "codemirror_mode": {
    "name": "ipython",
    "version": 3
   },
   "file_extension": ".py",
   "mimetype": "text/x-python",
   "name": "python",
   "nbconvert_exporter": "python",
   "pygments_lexer": "ipython3",
   "version": "3.7.9"
  }
 },
 "nbformat": 4,
 "nbformat_minor": 1
}
