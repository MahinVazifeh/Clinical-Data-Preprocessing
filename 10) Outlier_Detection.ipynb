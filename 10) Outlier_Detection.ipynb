{
 "cells": [
  {
   "cell_type": "code",
   "execution_count": null,
   "id": "c314b106",
   "metadata": {},
   "outputs": [],
   "source": [
    "import numpy as np\n",
    "import pandas as pd\n",
    "from sklearn import preprocessing\n",
    "from scipy.stats import linregress\n",
    "import datetime"
   ]
  },
  {
   "cell_type": "code",
   "execution_count": null,
   "id": "51320191",
   "metadata": {},
   "outputs": [],
   "source": [
    "data = pd.read_csv(\".../Final_data_visit_to_visit.csv\")\n",
    "data.dropna(subset = [\"MSSS\"], inplace = True)\n",
    "data.shape"
   ]
  },
  {
   "cell_type": "code",
   "execution_count": null,
   "id": "3653700d",
   "metadata": {},
   "outputs": [],
   "source": [
    "col = \"Slope_PM25\"\n",
    "Q1 = data[col].quantile(0.25)\n",
    "Q3 = data[col].quantile(0.75)\n",
    "IQR = Q3 - Q1\n",
    "lower_bound = Q1 - 1.5 * IQR\n",
    "upper_bound = Q3 + 1.5 * IQR\n",
    "    \n",
    "outliers = data[(data[col] < lower_bound) | (data[col] > upper_bound)]\n",
    "new_data = data.drop(outliers.index)"
   ]
  },
  {
   "cell_type": "code",
   "execution_count": null,
   "id": "d184efbc",
   "metadata": {},
   "outputs": [],
   "source": [
    "slope_features = [col for col in data.columns if \"Slope\" in col]\n",
    "slope_features\n",
    "final_data = pd.DataFrame()\n",
    "for col in slope_features:\n",
    "    Q1 = data[col].quantile(0.25)\n",
    "    Q3 = data[col].quantile(0.75)\n",
    "    IQR = Q3 - Q1\n",
    "    lower_bound = Q1 - 1.5 * IQR\n",
    "    upper_bound = Q3 + 1.5 * IQR\n",
    "    \n",
    "    outliers = data[(data[col] < lower_bound) | (data[col] > upper_bound)]\n",
    "    new_data = data.drop(outliers.index)\n",
    "    final_data = final_data.append(new_data)\n",
    "\n",
    "newdf = final_data.drop_duplicates()\n",
    "newdf.shape"
   ]
  }
 ],
 "metadata": {
  "kernelspec": {
   "display_name": "Python 3 (ipykernel)",
   "language": "python",
   "name": "python3"
  },
  "language_info": {
   "codemirror_mode": {
    "name": "ipython",
    "version": 3
   },
   "file_extension": ".py",
   "mimetype": "text/x-python",
   "name": "python",
   "nbconvert_exporter": "python",
   "pygments_lexer": "ipython3",
   "version": "3.7.9"
  }
 },
 "nbformat": 4,
 "nbformat_minor": 5
}
