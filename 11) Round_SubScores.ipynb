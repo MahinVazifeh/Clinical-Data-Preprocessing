{
 "cells": [
  {
   "cell_type": "code",
   "execution_count": null,
   "id": "33d96025",
   "metadata": {},
   "outputs": [],
   "source": [
    "import pandas as pd\n",
    "import numpy as np\n",
    "import math"
   ]
  },
  {
   "cell_type": "code",
   "execution_count": null,
   "id": "11b60b8c",
   "metadata": {},
   "outputs": [],
   "source": [
    "# Define the round_to_nearest function\n",
    "def round_to_nearest(value):\n",
    "    \n",
    "    difference_ceil = math.ceil(value) - value\n",
    "    if difference_ceil <= 0.25:\n",
    "        return math.ceil(value)\n",
    "    elif difference_ceil <= 0.5:\n",
    "        return math.ceil(value) - 0.5\n",
    "    elif difference_ceil <= 0.75:\n",
    "        return math.ceil(value) - 0.5\n",
    "    else:\n",
    "        return math.floor(value)\n",
    "# Apply the round_to_nearest function to each column of the DataFrame\n",
    "dataset = dataset.applymap(round_to_nearest)\n",
    "dataset.head(10)"
   ]
  },
  {
   "cell_type": "code",
   "execution_count": null,
   "id": "da906e30",
   "metadata": {},
   "outputs": [],
   "source": [
    "dataset = pd.read_csv(\".../4Weeks_Merged_AirFS.csv\")\n",
    "dataset = dataset.iloc[:,2:10]\n",
    "dataset.head()"
   ]
  }
 ],
 "metadata": {
  "kernelspec": {
   "display_name": "Python 3 (ipykernel)",
   "language": "python",
   "name": "python3"
  },
  "language_info": {
   "codemirror_mode": {
    "name": "ipython",
    "version": 3
   },
   "file_extension": ".py",
   "mimetype": "text/x-python",
   "name": "python",
   "nbconvert_exporter": "python",
   "pygments_lexer": "ipython3",
   "version": "3.7.9"
  }
 },
 "nbformat": 4,
 "nbformat_minor": 5
}
