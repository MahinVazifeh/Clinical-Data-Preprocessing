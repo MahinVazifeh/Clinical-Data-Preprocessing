{
 "cells": [
  {
   "cell_type": "code",
   "execution_count": null,
   "id": "f6b4798f",
   "metadata": {},
   "outputs": [],
   "source": [
    "# Read Libraries\n",
    "import pandas as pd\n",
    "from datetime import date\n",
    "import matplotlib.pyplot as plt\n",
    "from dateutil.relativedelta import relativedelta"
   ]
  },
  {
   "cell_type": "code",
   "execution_count": null,
   "id": "68868a1b",
   "metadata": {},
   "outputs": [],
   "source": [
    "# Load Data\n",
    "data = pd.read_csv(\".../Shifted_data.csv\")\n",
    "# Forward fill missing values\n",
    "data = data.fillna(method='ffill')"
   ]
  },
  {
   "cell_type": "code",
   "execution_count": null,
   "id": "8e04d5bd",
   "metadata": {},
   "outputs": [],
   "source": [
    "# Define a function to calculate relative year\n",
    "def calculate_year(row):\n",
    "    patient_id = row['Patient_id']\n",
    "    observation_date = row['Date_of_visit']\n",
    "    first_date = patient_first_dates[patient_id]\n",
    "    year_diff = observation_date.year - first_date.year\n",
    "    month_diff = (observation_date.month >= first_date.month)\n",
    "    return year_diff + (month_diff / 12)\n",
    "\n",
    "def calculate_month(row):\n",
    "    patient_id = row['Patient_id']\n",
    "    observation_date = row['Date_of_visit']\n",
    "    first_date = patient_first_dates[patient_id]\n",
    "    month_diff = (observation_date.year - first_date.year) * 12 + observation_date.month - first_date.month\n",
    "    return month_diff\n",
    "\n",
    "def calculate_day(row):\n",
    "    patient_id = row['Patient_id']\n",
    "    observation_date = row['Date_of_visit']\n",
    "    first_date = patient_first_dates[patient_id]\n",
    "    day_diff = observation_date - first_date\n",
    "    return day_diff\n",
    "\n",
    "def calculate_week(row):\n",
    "    patient_id = row['Patient_id']\n",
    "    observation_date = row['Date_of_visit']\n",
    "    first_date = patient_first_dates[patient_id]\n",
    "    week_diff = round((observation_date - first_date).days / 7,2)\n",
    "    return week_diff\n"
   ]
  },
  {
   "cell_type": "code",
   "execution_count": null,
   "id": "8d7d54ff",
   "metadata": {},
   "outputs": [],
   "source": [
    "data['Date_of_visit'] = pd.to_datetime(data['Date_of_visit'], format='%Y-%m-%d')\n",
    "data[\"Year_visit\"] = data['Date_of_visit'].dt.year\n",
    "# Create a new column to count occurrences of each patient ID\n",
    "data['Observation_times'] = data.groupby('Patient_id')['Patient_id'].transform('count')\n",
    "# Filter data to exclude patients with only one observation\n",
    "data = data[data['Observation_times'] != 1]"
   ]
  },
  {
   "cell_type": "code",
   "execution_count": null,
   "id": "1ccfdc4a",
   "metadata": {},
   "outputs": [],
   "source": [
    "# Apply the function to create the 'year' feature (consider vectorization for efficiency)\n",
    "data['year_diff_firstvisit'] = data.apply(calculate_year, axis=1)\n",
    "data[\"year_diff_firstvisit\"] = data[\"year_diff_firstvisit\"].round().astype(int)\n",
    "\n",
    "data['month_diff_firstvisit'] = data.apply(calculate_month, axis=1)\n",
    "data[\"month_diff_firstvisit\"] = data[\"month_diff_firstvisit\"].astype(int)\n",
    "\n",
    "data['week_diff_firstvisit'] = data.apply(calculate_week, axis=1)\n",
    "data[\"week_diff_firstvisit\"] = data[\"week_diff_firstvisit\"].astype(int)\n",
    "\n",
    "data['day_diff_firstvisit'] = data.apply(calculate_day, axis=1)\n",
    "data[\"day_diff_firstvisit\"] = data[\"day_diff_firstvisit\"].astype(int)\n",
    "\n",
    "data.to_csv(\"Shiftted_data_with_year_month_week_day.csv\", index= False)"
   ]
  },
  {
   "cell_type": "code",
   "execution_count": null,
   "id": "e73b3a7d",
   "metadata": {},
   "outputs": [],
   "source": [
    "# Get the first date of visit for each patient\n",
    "patient_first_dates = data.groupby('Patient_id')['Date_of_visit'].min()\n",
    "patient_last_dates = data.groupby('Patient_id')['Date_of_visit'].max()\n",
    "\n",
    "diff = round((patient_last_dates - patient_first_dates).dt.days / 7,2)\n",
    "diff"
   ]
  },
  {
   "cell_type": "code",
   "execution_count": null,
   "id": "0e396470",
   "metadata": {},
   "outputs": [],
   "source": [
    "# Create scatter plot\n",
    "plt.figure(figsize=(8, 6))\n",
    "plt.scatter(data['day_diff_firstvisit'], data['EDSS_score_assessed_by_clinician'])\n",
    "plt.xlabel('day since first visit')\n",
    "plt.ylabel('EDSS score')\n",
    "plt.title('Scatter plot of EDSS score vs Day')\n",
    "plt.grid(True)\n",
    "plt.show()"
   ]
  }
 ],
 "metadata": {
  "kernelspec": {
   "display_name": "Python 3 (ipykernel)",
   "language": "python",
   "name": "python3"
  },
  "language_info": {
   "codemirror_mode": {
    "name": "ipython",
    "version": 3
   },
   "file_extension": ".py",
   "mimetype": "text/x-python",
   "name": "python",
   "nbconvert_exporter": "python",
   "pygments_lexer": "ipython3",
   "version": "3.7.9"
  }
 },
 "nbformat": 4,
 "nbformat_minor": 5
}
