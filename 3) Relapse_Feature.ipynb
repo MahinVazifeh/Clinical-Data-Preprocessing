{
 "cells": [
  {
   "cell_type": "code",
   "execution_count": null,
   "id": "3f8f8e0a",
   "metadata": {},
   "outputs": [],
   "source": [
    "import numpy as np\n",
    "import pandas as pd\n",
    "import math"
   ]
  },
  {
   "cell_type": "code",
   "execution_count": null,
   "id": "29797b2b",
   "metadata": {},
   "outputs": [],
   "source": [
    "path_1 = \".../48Weeks_Merged_AirFS.csv\"\n",
    "path_2 = \".../relapse.csv\"\n",
    "data_4weeks_ago = pd.read_csv(path_1)\n",
    "relapse_date = pd.read_csv(path_2)\n"
   ]
  },
  {
   "cell_type": "code",
   "execution_count": null,
   "id": "ab931eaa",
   "metadata": {},
   "outputs": [],
   "source": [
    "# Create a function to count relapses until the date of visit\n",
    "def count_relapses(patient_id, date):\n",
    "    \n",
    "    relapses = relapse_date[(relapse_date['Paziente ID'] == patient_id)\n",
    "                            & (relapse_date['relapse'] <= date)]\n",
    "    \n",
    "    if len(relapses) < 1:\n",
    "        return 0\n",
    "    else:\n",
    "        return relapses.iloc[-1]['Relapse Count']"
   ]
  },
  {
   "cell_type": "code",
   "execution_count": null,
   "id": "40359afa",
   "metadata": {},
   "outputs": [],
   "source": [
    "# Convert date columns to datetime objects\n",
    "data_4weeks_ago['Date_of_visit'] = pd.to_datetime(data_4weeks_ago['Date_of_visit'])\n",
    "relapse_date['relapse'] = pd.to_datetime(relapse_date['relapse'])\n",
    "\n",
    "# Apply the function to create the 'relapse_number' column\n",
    "data_4weeks_ago['relapse_number'] = data_4weeks_ago.apply(lambda row: \n",
    "                                                    count_relapses(row['Patient_id'], \n",
    "                                                                   row['Date_of_visit']), \n",
    "                                                    axis=1)"
   ]
  },
  {
   "cell_type": "code",
   "execution_count": null,
   "id": "c85a5c99",
   "metadata": {},
   "outputs": [],
   "source": [
    "# Making Relapse Count\n",
    "relapse_date.sort_values(by=['Paziente ID', 'relapse'], inplace = True)\n",
    "relapse_date['Relapse Count'] = relapse_date.groupby('Paziente ID').cumcount() + 1\n",
    "relapse_date.to_csv(\"relapse.csv\")"
   ]
  },
  {
   "cell_type": "code",
   "execution_count": null,
   "id": "ed552488",
   "metadata": {},
   "outputs": [],
   "source": [
    "data_4weeks_ago.to_csv(\"48Weeks_Merged_AirFS.csv\", index = False)"
   ]
  }
 ],
 "metadata": {
  "kernelspec": {
   "display_name": "Python 3 (ipykernel)",
   "language": "python",
   "name": "python3"
  },
  "language_info": {
   "codemirror_mode": {
    "name": "ipython",
    "version": 3
   },
   "file_extension": ".py",
   "mimetype": "text/x-python",
   "name": "python",
   "nbconvert_exporter": "python",
   "pygments_lexer": "ipython3",
   "version": "3.7.9"
  }
 },
 "nbformat": 4,
 "nbformat_minor": 5
}
