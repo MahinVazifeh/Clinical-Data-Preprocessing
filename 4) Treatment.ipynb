{
 "cells": [
  {
   "cell_type": "code",
   "execution_count": null,
   "id": "ee823d71",
   "metadata": {},
   "outputs": [],
   "source": [
    "import numpy as np\n",
    "import pandas as pd\n",
    "import math\n",
    "from tqdm import tqdm"
   ]
  },
  {
   "cell_type": "code",
   "execution_count": null,
   "id": "7d266328",
   "metadata": {},
   "outputs": [],
   "source": [
    "data = pd.read_csv(\".../4_weeks_without_missing_onset.csv\")\n",
    "data.isnull().sum()"
   ]
  },
  {
   "cell_type": "code",
   "execution_count": null,
   "id": "ae1365c4",
   "metadata": {},
   "outputs": [],
   "source": [
    "drug_data = pd.read_csv(\".../MS_patients_meas3.csv\")\n",
    "#drug_data = drug_data[['patient_id','start_date','end_date','ms_first_line','ms_second_line','ms_other']]\n",
    "drug_data = drug_data[~drug_data['patient_id'].str.contains(\"TUR_MS\",na=False)]\n",
    "drug_data['patient_id'] = drug_data['patient_id'].astype('int64')"
   ]
  },
  {
   "cell_type": "code",
   "execution_count": null,
   "id": "466159dc",
   "metadata": {},
   "outputs": [],
   "source": [
    "#For between two visit date\n",
    "data['Date_of_visit'] = pd.to_datetime(data['Date_of_visit'],format ='%Y-%m-%d')\n",
    "drug_data[\"start_date\"] = pd.to_datetime(drug_data[\"start_date\"],format ='%Y-%m-%d')\n",
    "drug_data[\"end_date\"] = pd.to_datetime(drug_data[\"end_date\"],format ='%Y-%m-%d')\n",
    "\n",
    "\n",
    "for index, row in data.iterrows():\n",
    "    print(index)\n",
    "    patient_postcode = row['CAP']\n",
    "    patient_id = row['Patient_ID']\n",
    "    visit_date = row['Date_of_visit']\n",
    "    index_row = data.index[(data['Patient_ID'] == patient_id)&\n",
    "                           (data['Date_of_visit'] == visit_date)].tolist()\n",
    "    \n",
    "    if len(data) == index+1:\n",
    "        break\n",
    "        \n",
    "    elif data.iloc[index+1][\"Patient_ID\"] == patient_id:\n",
    "        next_visit_date = data.loc[index+1,'Date_of_visit']\n",
    "        \n",
    "        if patient_id in list(drug_data[\"patient_id\"]):\n",
    "            \n",
    "            matching_rows = drug_data[(drug_data['patient_id'] == patient_id) &\n",
    "                                      (drug_data['start_date'].dt.date >= visit_date.date()) &\n",
    "                                      (drug_data['end_date'].dt.date < next_visit_date.date())]\n",
    "            \n",
    "            \n",
    "            if len(matching_rows) != 0:\n",
    "                matching_rows = matching_rows.fillna(0)\n",
    "                data.loc[index+1,\"First_line_Treat\"] = sum(matching_rows['ms_first_line'])\n",
    "                data.loc[index+1,\"Second_line_Treat\"] = sum(matching_rows['ms_second_line'])\n",
    "                data.loc[index+1,\"Other_line_Treat\"] = sum(matching_rows['ms_other'])\n",
    "            else:\n",
    "                print(\"matching row is zero\")\n",
    "        else:\n",
    "            print(\"The patient id \" + str(patient_id) + \" cannot be found in weekly dataset\")\n",
    "    else:\n",
    "        continue\n",
    "\n",
    "data.head()"
   ]
  },
  {
   "cell_type": "code",
   "execution_count": null,
   "id": "48cecd6e",
   "metadata": {},
   "outputs": [],
   "source": [
    "# For 24 weeks before the visit date for first observation of visit to visit data\n",
    "data['Date_of_visit'] = pd.to_datetime(data['Date_of_visit'],format ='%Y-%m-%d')\n",
    "drug_data[\"start_date\"] = pd.to_datetime(drug_data[\"start_date\"],format ='%Y-%m-%d')\n",
    "drug_data[\"end_date\"] = pd.to_datetime(drug_data[\"end_date\"],format ='%Y-%m-%d')\n",
    "first_obs = data.groupby([\"Patient_ID\"]).nth(0).reset_index()\n",
    "\n",
    "for index, row in data.iterrows():\n",
    "    print(index)\n",
    "    patient_postcode = row['CAP']\n",
    "    patient_id = row['Patient_ID']\n",
    "    visit_date = row['Date_of_visit']\n",
    "    index_row = data.index[(data['Patient_ID'] == patient_id)&\n",
    "                           (data['Date_of_visit'] == visit_date)].tolist()\n",
    "\n",
    "        \n",
    "    if patient_id in list(drug_data[\"patient_id\"]):\n",
    "        \n",
    "        matching_rows = drug_data[(drug_data['patient_id'] == patient_id) &\n",
    "                                  (drug_data['start_date'].dt.date >= visit_date.date() - \n",
    "                                   pd.DateOffset(weeks=4)) &\n",
    "                                  (drug_data['end_date'].dt.date < visit_date.date())]\n",
    "            \n",
    "        if len(matching_rows) != 0:\n",
    "            matching_rows = matching_rows.fillna(0)\n",
    "            data.loc[index_row,\"First_line_Treat\"] = sum(matching_rows['ms_first_line'])\n",
    "            data.loc[index_row,\"Second_line_Treat\"] = sum(matching_rows['ms_second_line'])\n",
    "            data.loc[index_row,\"Other_line_Treat\"] = sum(matching_rows['ms_other'])\n",
    "        else:\n",
    "            print(\"matching row is zero\")\n",
    "    else:\n",
    "        print(\"The patient id \" + str(patient_id) + \" cannot be found in weekly dataset\")\n",
    "\n",
    "data.head()"
   ]
  }
 ],
 "metadata": {
  "kernelspec": {
   "display_name": "Python 3 (ipykernel)",
   "language": "python",
   "name": "python3"
  },
  "language_info": {
   "codemirror_mode": {
    "name": "ipython",
    "version": 3
   },
   "file_extension": ".py",
   "mimetype": "text/x-python",
   "name": "python",
   "nbconvert_exporter": "python",
   "pygments_lexer": "ipython3",
   "version": "3.7.9"
  }
 },
 "nbformat": 4,
 "nbformat_minor": 5
}
