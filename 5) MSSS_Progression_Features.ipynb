{
 "cells": [
  {
   "cell_type": "code",
   "execution_count": null,
   "id": "812f438a",
   "metadata": {},
   "outputs": [],
   "source": [
    "import pandas as pd\n",
    "import numpy as np\n",
    "#import mssev as ms"
   ]
  },
  {
   "cell_type": "code",
   "execution_count": null,
   "id": "17280659",
   "metadata": {},
   "outputs": [],
   "source": [
    "data = pd.read_csv(\"Complete_Clinical_Data_12000.csv\")\n",
    "data.info()"
   ]
  },
  {
   "cell_type": "code",
   "execution_count": null,
   "id": "fc603790",
   "metadata": {},
   "outputs": [],
   "source": [
    "# Make the MSSS feature\n",
    "data[\"MSSS\"] = ms.MSSS(data, \n",
    "                       ds=\"EDSS_score_assessed_by_clinician\", \n",
    "                       duration=\"num_year_from_onset\")\n",
    "data.dropna(subset=['MSSS'], axis = 0, inplace = True)\n",
    "\n",
    "bins = [0, 1, 2, 3, 4, 5, 6, 7, 8, 9, 10]\n",
    "labels = [1, 2, 3, 4, 5, 6, 7, 8, 9, 10]\n",
    "\n",
    "data[\"MSSS_classified\"] = pd.cut(data['MSSS'], \n",
    "                                 bins=bins, \n",
    "                                 labels=labels, \n",
    "                                 include_lowest=True, \n",
    "                                 right=True)\n",
    "data[\"MSSS_classified\"].hist()"
   ]
  },
  {
   "cell_type": "code",
   "execution_count": null,
   "id": "7565f16c",
   "metadata": {},
   "outputs": [],
   "source": [
    "#Make outcome feature\n",
    "def classify_outcome(x):\n",
    "    if pd.isnull(x):\n",
    "        return 'First obs'\n",
    "    elif x == 0.5:\n",
    "        return 'Very Mild Progression'\n",
    "    elif x == 1:\n",
    "        return 'Mild progression'\n",
    "    elif x == 1.5:\n",
    "        return 'Moderate progression'\n",
    "    elif x < 0:\n",
    "        return 'Improvment'\n",
    "    elif x == 0:\n",
    "        return 'No change'\n",
    "    else:\n",
    "        return 'Severe Progression'\n",
    "    \n",
    "data['num_obs'] = data.groupby('Patient_ID')['Patient_ID'].transform('count')\n",
    "data = data[dat\n",
    "            a.num_obs > 1]\n",
    "data['Diff_EDSS'] = data.groupby('Patient_ID')['EDSS'].diff()\n",
    "data[['Patient_ID','Date_of_visit','EDSS','Diff_EDSS']]\n",
    "data['Outcome'] = data['Diff_EDSS'].map(classify_outcome)\n",
    "data['Outcome'] = data['Outcome'].map({'First obs':0,\n",
    "                                       'Improvment':1,\n",
    "                                       'Very Mild Progression':1,\n",
    "                                       'Mild progression':2,\n",
    "                                       'Moderate progression':3,\n",
    "                                       'No change':4,\n",
    "                                       'Severe Progression':5})\n",
    "data.head()"
   ]
  },
  {
   "cell_type": "code",
   "execution_count": null,
   "id": "fb5ebd8d",
   "metadata": {},
   "outputs": [],
   "source": [
    "#Add onset date,birth of day and CAP features\n",
    "first_last_data = pd.read_csv(\"First_Last_Observation_Patient.csv\")\n",
    "data = pd.merge(data,\n",
    "                first_last_data, \n",
    "                left_on=\"Patient_ID\", \n",
    "                right_on=\"Patient_ID\", \n",
    "                how = \"left\")"
   ]
  },
  {
   "cell_type": "code",
   "execution_count": null,
   "id": "eb93dbd0",
   "metadata": {},
   "outputs": [],
   "source": [
    "#Making time feature\n",
    "data['Date_of_visit'] = pd.to_datetime(data['Date_of_visit'],format ='%Y-%m-%d')\n",
    "data[\"Date_of_Onset\"] = pd.to_datetime(data[\"Date_of_Onset\"],format ='%Y-%m-%d')\n",
    "data['year_from_onset'] = ((data['Date_of_visit'] - data['Date_of_Onset']) / np.timedelta64(1, 'Y')).round(2)\n",
    "data.head()"
   ]
  },
  {
   "cell_type": "code",
   "execution_count": null,
   "id": "69c21496",
   "metadata": {},
   "outputs": [],
   "source": [
    "#Making Patient number feature\n",
    "data['Patient_number'] = data.groupby('Patient_ID').ngroup() + 1"
   ]
  },
  {
   "cell_type": "code",
   "execution_count": null,
   "id": "833d4c49",
   "metadata": {},
   "outputs": [],
   "source": [
    "#Save the final clinical data\n",
    "data.to_csv(\"Completed_data_with_Progression_Outcome.csv\", index = False)"
   ]
  }
 ],
 "metadata": {
  "kernelspec": {
   "display_name": "Python 3 (ipykernel)",
   "language": "python",
   "name": "python3"
  },
  "language_info": {
   "codemirror_mode": {
    "name": "ipython",
    "version": 3
   },
   "file_extension": ".py",
   "mimetype": "text/x-python",
   "name": "python",
   "nbconvert_exporter": "python",
   "pygments_lexer": "ipython3",
   "version": "3.7.9"
  }
 },
 "nbformat": 4,
 "nbformat_minor": 5
}
