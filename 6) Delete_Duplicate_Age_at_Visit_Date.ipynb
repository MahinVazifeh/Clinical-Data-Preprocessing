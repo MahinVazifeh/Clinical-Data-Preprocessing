{
 "cells": [
  {
   "cell_type": "code",
   "execution_count": null,
   "id": "bbdc9296",
   "metadata": {},
   "outputs": [],
   "source": [
    "import numpy as np\n",
    "import pandas as pd\n",
    "import math"
   ]
  },
  {
   "cell_type": "code",
   "execution_count": null,
   "id": "e67c1a16",
   "metadata": {},
   "outputs": [],
   "source": [
    "def calculate_age_at_visit(row):\n",
    "    date_of_birth = row['Data di nascita']\n",
    "    date_of_visit = row['Date_of_visit']\n",
    "    age = date_of_visit.year - date_of_birth.year - ((date_of_visit.month, date_of_visit.day) < (date_of_birth.month, date_of_birth.day))\n",
    "    return age"
   ]
  },
  {
   "cell_type": "code",
   "execution_count": null,
   "id": "a6641ed4",
   "metadata": {},
   "outputs": [],
   "source": [
    "Age = pd.read_csv(\"C:/Users/Mahin Vazifehdan/Desktop/Datasets/BrainTeaser/Other data/Patient_CAP.csv\")\n",
    "incomplete_FS_Score = pd.read_csv(\"C:/Users/Mahin Vazifehdan/Desktop/Datasets/BrainTeaser/Clinical_data/Updated_MS_14000.csv\")\n"
   ]
  },
  {
   "cell_type": "code",
   "execution_count": null,
   "id": "dd9d6178",
   "metadata": {},
   "outputs": [],
   "source": [
    "incomplete_FS_Score.drop_duplicates(subset=[\"Patient_ID\", \"Date_of_visit\"],\n",
    "                          keep = \"first\",\n",
    "                          inplace=True, \n",
    "                          ignore_index=True)\n",
    "\n",
    "incomplete_FS_Score['Date_of_visit'] = pd.to_datetime(incomplete_FS_Score['Date_of_visit'], format ='%d/%m/%Y')\n",
    "incomplete_FS_Score['Patient_ID']=incomplete_FS_Score['Patient_ID'].astype(object)\n",
    "Age['Data di nascita'] = pd.to_datetime(Age['Data di nascita'])\n",
    "\n",
    "incomplete_FS_Score.dropna(inplace=True)\n",
    "\n",
    "final_data = incomplete_FS_Score.merge(Age, left_on='Patient_ID', right_on = \"Paziente ID\", how='left')\n",
    "final_data['Age'] = final_data.apply(calculate_age_at_visit, axis=1)"
   ]
  },
  {
   "cell_type": "code",
   "execution_count": null,
   "id": "14e86e6f",
   "metadata": {},
   "outputs": [],
   "source": [
    "final_data.to_csv(\"Complete_Clinical_Data_12000.csv\", index = False) "
   ]
  }
 ],
 "metadata": {
  "kernelspec": {
   "display_name": "Python 3 (ipykernel)",
   "language": "python",
   "name": "python3"
  },
  "language_info": {
   "codemirror_mode": {
    "name": "ipython",
    "version": 3
   },
   "file_extension": ".py",
   "mimetype": "text/x-python",
   "name": "python",
   "nbconvert_exporter": "python",
   "pygments_lexer": "ipython3",
   "version": "3.7.9"
  }
 },
 "nbformat": 4,
 "nbformat_minor": 5
}
