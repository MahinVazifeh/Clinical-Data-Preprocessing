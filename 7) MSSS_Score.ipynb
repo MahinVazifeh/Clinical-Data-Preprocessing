{
 "cells": [
  {
   "cell_type": "code",
   "execution_count": null,
   "id": "2312455d",
   "metadata": {},
   "outputs": [],
   "source": [
    "import numpy as np\n",
    "import pandas as pd\n",
    "from sklearn import preprocessing\n",
    "from sklearn.linear_model import LinearRegression\n",
    "import datetime"
   ]
  },
  {
   "cell_type": "code",
   "execution_count": null,
   "id": "3f5af064",
   "metadata": {},
   "outputs": [],
   "source": [
    "onset_date = pd.read_csv(\"C:/Users/Mahin Vazifehdan/Desktop/Datasets/BrainTeaser/Clinical_data/Onset_date.csv\")\n",
    "final_data = pd.read_csv(\"C:/Users/Mahin Vazifehdan/Desktop/Python_codes/MSSS_Score/Derived Datasets/Data_with_WHO_1.csv\")\n",
    "onset_date.head()"
   ]
  },
  {
   "cell_type": "code",
   "execution_count": null,
   "id": "0abb74ff",
   "metadata": {},
   "outputs": [],
   "source": [
    "final_data_with_MSSS = pd.merge(final_data,onset_date, \n",
    "                                left_on='Patient_ID', right_on = \"Patient_id\",\n",
    "                                how=\"left\")\n",
    "final_data_with_MSSS.columns"
   ]
  },
  {
   "cell_type": "code",
   "execution_count": null,
   "id": "89af6c56",
   "metadata": {},
   "outputs": [],
   "source": [
    "datetime_columns = final_data_with_MSSS.columns[[2,-1]]\n",
    "final_data_with_MSSS[datetime_columns] = final_data_with_MSSS[datetime_columns].apply(pd.to_datetime, errors='coerce')"
   ]
  },
  {
   "cell_type": "code",
   "execution_count": null,
   "id": "2187703b",
   "metadata": {},
   "outputs": [],
   "source": [
    "final_data_with_MSSS['diff_year'] = ((final_data_with_MSSS['Date_of_visit'] - final_data_with_MSSS['Onset_date']) / np.timedelta64(1, 'Y')).round(3)\n",
    "final_data_with_MSSS['diff_year']"
   ]
  },
  {
   "cell_type": "code",
   "execution_count": null,
   "id": "585ceb22",
   "metadata": {},
   "outputs": [],
   "source": [
    "final_data_with_MSSS.drop(['Patient_id'], axis=1, inplace=True)"
   ]
  },
  {
   "cell_type": "code",
   "execution_count": null,
   "id": "e2d5426a",
   "metadata": {},
   "outputs": [],
   "source": [
    "final_data_with_MSSS.to_csv(\"Data_with_WHO_2.csv\", index = False)"
   ]
  },
  {
   "cell_type": "code",
   "execution_count": null,
   "id": "e9d40a95",
   "metadata": {},
   "outputs": [],
   "source": [
    "# The MSSS score is computed by google drive (mahinvazifeh@gmail.com account - HMM folder)"
   ]
  }
 ],
 "metadata": {
  "kernelspec": {
   "display_name": "Python 3 (ipykernel)",
   "language": "python",
   "name": "python3"
  },
  "language_info": {
   "codemirror_mode": {
    "name": "ipython",
    "version": 3
   },
   "file_extension": ".py",
   "mimetype": "text/x-python",
   "name": "python",
   "nbconvert_exporter": "python",
   "pygments_lexer": "ipython3",
   "version": "3.7.9"
  }
 },
 "nbformat": 4,
 "nbformat_minor": 5
}
