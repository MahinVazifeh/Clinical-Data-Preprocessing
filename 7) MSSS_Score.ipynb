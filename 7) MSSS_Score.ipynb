{
 "cells": [
  {
   "cell_type": "code",
   "execution_count": 1,
   "id": "2312455d",
   "metadata": {},
   "outputs": [],
   "source": [
    "import numpy as np\n",
    "import pandas as pd\n",
    "from sklearn import preprocessing\n",
    "from sklearn.linear_model import LinearRegression\n",
    "import datetime"
   ]
  },
  {
   "cell_type": "code",
   "execution_count": 2,
   "id": "3f5af064",
   "metadata": {
    "collapsed": true
   },
   "outputs": [
    {
     "data": {
      "text/html": [
       "<div>\n",
       "<style scoped>\n",
       "    .dataframe tbody tr th:only-of-type {\n",
       "        vertical-align: middle;\n",
       "    }\n",
       "\n",
       "    .dataframe tbody tr th {\n",
       "        vertical-align: top;\n",
       "    }\n",
       "\n",
       "    .dataframe thead th {\n",
       "        text-align: right;\n",
       "    }\n",
       "</style>\n",
       "<table border=\"1\" class=\"dataframe\">\n",
       "  <thead>\n",
       "    <tr style=\"text-align: right;\">\n",
       "      <th></th>\n",
       "      <th>Patient_id</th>\n",
       "      <th>Onset_date</th>\n",
       "    </tr>\n",
       "  </thead>\n",
       "  <tbody>\n",
       "    <tr>\n",
       "      <th>0</th>\n",
       "      <td>2774</td>\n",
       "      <td>2011-02-15</td>\n",
       "    </tr>\n",
       "    <tr>\n",
       "      <th>1</th>\n",
       "      <td>3936</td>\n",
       "      <td>2000-06-15</td>\n",
       "    </tr>\n",
       "    <tr>\n",
       "      <th>2</th>\n",
       "      <td>5835</td>\n",
       "      <td>2005-05-15</td>\n",
       "    </tr>\n",
       "    <tr>\n",
       "      <th>3</th>\n",
       "      <td>9988</td>\n",
       "      <td>1997-01-15</td>\n",
       "    </tr>\n",
       "    <tr>\n",
       "      <th>4</th>\n",
       "      <td>10096</td>\n",
       "      <td>1999-06-15</td>\n",
       "    </tr>\n",
       "  </tbody>\n",
       "</table>\n",
       "</div>"
      ],
      "text/plain": [
       "   Patient_id  Onset_date\n",
       "0        2774  2011-02-15\n",
       "1        3936  2000-06-15\n",
       "2        5835  2005-05-15\n",
       "3        9988  1997-01-15\n",
       "4       10096  1999-06-15"
      ]
     },
     "execution_count": 2,
     "metadata": {},
     "output_type": "execute_result"
    }
   ],
   "source": [
    "onset_date = pd.read_csv(\"C:/Users/Mahin Vazifehdan/Desktop/Datasets/BrainTeaser/Clinical_data/Onset_date.csv\")\n",
    "final_data = pd.read_csv(\"C:/Users/Mahin Vazifehdan/Desktop/Python_codes/MSSS_Score/Derived Datasets/Data_with_WHO_1.csv\")\n",
    "onset_date.head()"
   ]
  },
  {
   "cell_type": "code",
   "execution_count": 3,
   "id": "0abb74ff",
   "metadata": {
    "collapsed": true
   },
   "outputs": [
    {
     "data": {
      "text/plain": [
       "Index(['CAP', 'Patient_ID', 'Date_of_visit',\n",
       "       'EDSS_score_assessed_by_clinician', 'Sex', 'MS.in.pediatric.age', 'Age',\n",
       "       'Relapse_number', 'Pyramidal', 'Cerebellar', 'Thronchioencephalic',\n",
       "       'Sensitive', 'Sphincteric', 'Visual', 'Mental', 'Deambulation',\n",
       "       'WHOPercent_PM10', 'WHOPercent_PM25', 'WHOPercent_N02', 'WHOPercent_O3',\n",
       "       'WHOPercent_SO2', 'WHOPercent_CO', 'PM10', 'Slop_PM10', 'PP', 'Slop_PP',\n",
       "       'QQ', 'Slop_QQ', 'RR', 'Slop_RR', 'TG', 'Slop_TG', 'TN', 'Slop_TN',\n",
       "       'TX', 'Slop_TX', 'PM25', 'Slop_PM25', 'SO2', 'Slop_SO2', 'O3',\n",
       "       'Slop_O3', 'N02', 'Slop_N02', 'CO', 'Slop_CO', 'FG', 'Slop_FG', 'HU',\n",
       "       'Slop_HU', 'Patient_id', 'Onset_date'],\n",
       "      dtype='object')"
      ]
     },
     "execution_count": 3,
     "metadata": {},
     "output_type": "execute_result"
    }
   ],
   "source": [
    "final_data_with_MSSS = pd.merge(final_data,onset_date, \n",
    "                                left_on='Patient_ID', right_on = \"Patient_id\",\n",
    "                                how=\"left\")\n",
    "final_data_with_MSSS.columns"
   ]
  },
  {
   "cell_type": "code",
   "execution_count": 4,
   "id": "89af6c56",
   "metadata": {},
   "outputs": [],
   "source": [
    "datetime_columns = final_data_with_MSSS.columns[[2,-1]]\n",
    "final_data_with_MSSS[datetime_columns] = final_data_with_MSSS[datetime_columns].apply(pd.to_datetime, errors='coerce')"
   ]
  },
  {
   "cell_type": "code",
   "execution_count": 5,
   "id": "2187703b",
   "metadata": {
    "collapsed": true
   },
   "outputs": [
    {
     "data": {
      "text/plain": [
       "0       2.223\n",
       "1       2.801\n",
       "2       4.145\n",
       "3       4.334\n",
       "4       4.737\n",
       "        ...  \n",
       "4195    1.711\n",
       "4196    1.919\n",
       "4197    0.315\n",
       "4198    1.172\n",
       "4199    1.451\n",
       "Name: diff_year, Length: 4200, dtype: float64"
      ]
     },
     "execution_count": 5,
     "metadata": {},
     "output_type": "execute_result"
    }
   ],
   "source": [
    "final_data_with_MSSS['diff_year'] = ((final_data_with_MSSS['Date_of_visit'] - final_data_with_MSSS['Onset_date']) / np.timedelta64(1, 'Y')).round(3)\n",
    "final_data_with_MSSS['diff_year']"
   ]
  },
  {
   "cell_type": "code",
   "execution_count": 6,
   "id": "585ceb22",
   "metadata": {},
   "outputs": [],
   "source": [
    "final_data_with_MSSS.drop(['Patient_id'], axis=1, inplace=True)"
   ]
  },
  {
   "cell_type": "code",
   "execution_count": 7,
   "id": "e2d5426a",
   "metadata": {},
   "outputs": [],
   "source": [
    "final_data_with_MSSS.to_csv(\"Data_with_WHO_2.csv\", index = False)"
   ]
  },
  {
   "cell_type": "code",
   "execution_count": null,
   "id": "e9d40a95",
   "metadata": {},
   "outputs": [],
   "source": [
    "# The MSSS score is computed by google drive (mahinvazifeh@gmail.com account - HMM folder)"
   ]
  }
 ],
 "metadata": {
  "kernelspec": {
   "display_name": "Python 3 (ipykernel)",
   "language": "python",
   "name": "python3"
  },
  "language_info": {
   "codemirror_mode": {
    "name": "ipython",
    "version": 3
   },
   "file_extension": ".py",
   "mimetype": "text/x-python",
   "name": "python",
   "nbconvert_exporter": "python",
   "pygments_lexer": "ipython3",
   "version": "3.7.9"
  }
 },
 "nbformat": 4,
 "nbformat_minor": 5
}
