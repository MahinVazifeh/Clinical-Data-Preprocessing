{
 "cells": [
  {
   "cell_type": "code",
   "execution_count": null,
   "id": "6c5aad8e",
   "metadata": {},
   "outputs": [],
   "source": [
    "import numpy as np\n",
    "import pandas as pd\n",
    "import plotly.express as px\n",
    "from plotly.subplots import make_subplots\n",
    "import plotly.graph_objects as go"
   ]
  },
  {
   "cell_type": "code",
   "execution_count": null,
   "id": "21c3777e",
   "metadata": {},
   "outputs": [],
   "source": [
    "path = \"C:\\\\Users\\\\Mahin Vazifehdan\\\\Desktop\\\\Python_codes\\\\MSSS_Score\\\\Derived Datasets\\\\Fourth_version\\\\\"\n",
    "data = pd.read_csv(path + \"1_weeks_without_missing_onset.csv\")\n",
    "#data.dropna(subset=[\"MSSS\"], inplace = True)\n",
    "data.isnull().sum()"
   ]
  },
  {
   "cell_type": "code",
   "execution_count": null,
   "id": "aa5df3c0",
   "metadata": {},
   "outputs": [],
   "source": [
    "data = data.rename(columns={\"EDSS_score_assessed_by_clinician\": \"EDSS\", \"diff_week\": \"Week\"})\n",
    "data['State'] = data['EDSS'].apply(lambda x: 1 if x <= 1 else (2 if x <= 2.5 else 3))"
   ]
  },
  {
   "cell_type": "code",
   "execution_count": null,
   "id": "698bdad6",
   "metadata": {},
   "outputs": [],
   "source": [
    "figure = px.scatter(data_frame = data, \n",
    "                    x=\"PM25\",\n",
    "                    y=\"State\", \n",
    "                    size=\"State\",\n",
    "                    trendline=\"ols\",\n",
    "                    labels={\n",
    "                     \"EDSS_score_assessed_by_clinician\": \"EDSS\"},\n",
    "                    title = \"Relationship Between EDSS and PM10\")\n",
    "figure.show()"
   ]
  },
  {
   "cell_type": "code",
   "execution_count": null,
   "id": "3820d580",
   "metadata": {},
   "outputs": [],
   "source": [
    "fig = px.scatter_3d(data_frame = data,\n",
    "                    x='N02', \n",
    "                    y='EDSS', \n",
    "                    z='Week',\n",
    "                    color='EDSS',\n",
    "                   title = \"Nitrogen dioxide (NO2)\")\n",
    "fig.show()"
   ]
  },
  {
   "cell_type": "code",
   "execution_count": null,
   "id": "7f336a6c",
   "metadata": {},
   "outputs": [],
   "source": [
    "figure = px.scatter(data_frame = data, \n",
    "                    x=\"Sex\",\n",
    "                    y=\"MSSS\", \n",
    "                    size=\"MSSS\",\n",
    "                    color='Sex',\n",
    "                    trendline=\"ols\",\n",
    "                    labels={\n",
    "                     \"EDSS_score_assessed_by_clinician\": \"EDSS\"},\n",
    "                    title = \"Relationship Between Sex and MSSS (0 for Female)\")\n",
    "figure.show()"
   ]
  },
  {
   "cell_type": "code",
   "execution_count": null,
   "id": "28531482",
   "metadata": {},
   "outputs": [],
   "source": [
    "figure = px.scatter(data_frame = data, \n",
    "                    x=\"Relapse_number\",\n",
    "                    y=\"MSSS\", \n",
    "                    size=\"MSSS\",\n",
    "                    color='Sex',\n",
    "                    trendline=\"ols\",\n",
    "                    labels={\n",
    "                     \"Relapse_number\": \"Relapse number before the visit date\"},\n",
    "                    title = \"Relationship Between Relapse and MSSS (0 for Female)\")\n",
    "figure.show()"
   ]
  },
  {
   "cell_type": "code",
   "execution_count": null,
   "id": "48dbe104",
   "metadata": {},
   "outputs": [],
   "source": [
    "figure = px.scatter(data_frame = data, \n",
    "                    x=\"Age\",\n",
    "                    y=\"MSSS\", \n",
    "                    size=\"MSSS\",\n",
    "                    color='Sex',\n",
    "                    trendline=\"ols\",\n",
    "                    labels={\n",
    "                     \"Age\": \"Age at the visit date\"},\n",
    "                    title = \"Relationship Between Sex and MSSS (0 for Female)\")\n",
    "figure.show()"
   ]
  },
  {
   "cell_type": "code",
   "execution_count": null,
   "id": "4cb8eb7d",
   "metadata": {},
   "outputs": [],
   "source": [
    "figure = px.scatter(data_frame = data, \n",
    "                    x=\"Pyramidal\",\n",
    "                    y=\"MSSS\", \n",
    "                    size=\"MSSS\",\n",
    "                    color='Sex',\n",
    "                    trendline=\"ols\",\n",
    "                    title = \"Relationship Between Pyramidal and MSSS (0 for Female)\")\n",
    "figure.show()"
   ]
  },
  {
   "cell_type": "code",
   "execution_count": null,
   "id": "15114a65",
   "metadata": {},
   "outputs": [],
   "source": [
    "figure = px.scatter(data_frame = data, \n",
    "                    x=\"Cerebellar\",\n",
    "                    y=\"MSSS\", \n",
    "                    size=\"MSSS\",\n",
    "                    color='Sex',\n",
    "                    trendline=\"ols\",\n",
    "                    title = \"Relationship Between Cerebellar and MSSS (0 for Female)\")\n",
    "figure.show()"
   ]
  },
  {
   "cell_type": "code",
   "execution_count": null,
   "id": "574f2025",
   "metadata": {},
   "outputs": [],
   "source": [
    "figure = px.scatter(data_frame = data, \n",
    "                    x=\"Thronchioencephalic\",\n",
    "                    y=\"MSSS\", \n",
    "                    size=\"MSSS\",\n",
    "                    color='Sex',\n",
    "                    trendline=\"ols\",\n",
    "                    title = \"Relationship Between Brain Stem and MSSS (0 for Female)\")\n",
    "figure.show()"
   ]
  },
  {
   "cell_type": "code",
   "execution_count": null,
   "id": "b35347d4",
   "metadata": {},
   "outputs": [],
   "source": [
    "figure = px.scatter(data_frame = data, \n",
    "                    x=\"Sensitive\",\n",
    "                    y=\"MSSS\", \n",
    "                    size=\"MSSS\",\n",
    "                    color='Sex',\n",
    "                    trendline=\"ols\",\n",
    "                    title = \"Relationship Between Sensitive and MSSS (0 for Female)\")\n",
    "figure.show()"
   ]
  },
  {
   "cell_type": "code",
   "execution_count": null,
   "id": "972120c8",
   "metadata": {},
   "outputs": [],
   "source": [
    "figure = px.scatter(data_frame = data, \n",
    "                    x=\"Sphincteric\",\n",
    "                    y=\"MSSS\", \n",
    "                    size=\"MSSS\",\n",
    "                    color='Sex',\n",
    "                    trendline=\"ols\",\n",
    "                    title = \"Relationship Between Bladder Bowel and MSSS (0 for Female)\")\n",
    "figure.show()"
   ]
  },
  {
   "cell_type": "code",
   "execution_count": null,
   "id": "899a9194",
   "metadata": {},
   "outputs": [],
   "source": [
    "figure = px.scatter(data_frame = data, \n",
    "                    x=\"Visual\",\n",
    "                    y=\"MSSS\", \n",
    "                    size=\"MSSS\",\n",
    "                    color='Sex',\n",
    "                    trendline=\"ols\",\n",
    "                    title = \"Relationship Between Visual and MSSS (0 for Female)\")\n",
    "figure.show()"
   ]
  },
  {
   "cell_type": "code",
   "execution_count": null,
   "id": "8698b8c2",
   "metadata": {},
   "outputs": [],
   "source": [
    "figure = px.scatter(data_frame = data, \n",
    "                    x=\"Mental\",\n",
    "                    y=\"MSSS\", \n",
    "                    size=\"MSSS\",\n",
    "                    color='Sex',\n",
    "                    trendline=\"ols\",\n",
    "                    title = \"Relationship Between Mental and MSSS (0 for Female)\")\n",
    "figure.show()"
   ]
  },
  {
   "cell_type": "code",
   "execution_count": null,
   "id": "dd344e87",
   "metadata": {},
   "outputs": [],
   "source": [
    "figure = px.scatter(data_frame = data, \n",
    "                    x=\"Deambulation\",\n",
    "                    y=\"MSSS\", \n",
    "                    size=\"MSSS\",\n",
    "                    color='Sex',\n",
    "                    trendline=\"ols\",\n",
    "                    title = \"Relationship Between Deambulation and MSSS (0 for Female)\")\n",
    "figure.show()"
   ]
  },
  {
   "cell_type": "code",
   "execution_count": null,
   "id": "fab91e85",
   "metadata": {},
   "outputs": [],
   "source": [
    "figure = px.scatter(data_frame = data, \n",
    "                    x=\"PM10\",\n",
    "                    y=\"MSSS\", \n",
    "                    size=\"MSSS\",\n",
    "                    color='Sex',\n",
    "                    trendline=\"ols\",\n",
    "                    labels={\n",
    "                     \"PM10\": \"Particulate Matter with a diameter of 10 microns or less (PM10)\"},\n",
    "                    title = \"Relationship Between PM10 and MSSS (0 for Female)\")\n",
    "figure.show()"
   ]
  },
  {
   "cell_type": "code",
   "execution_count": null,
   "id": "a5f4271b",
   "metadata": {},
   "outputs": [],
   "source": [
    "figure = px.scatter(data_frame = data, \n",
    "                    x=\"PM25\",\n",
    "                    y=\"MSSS\", \n",
    "                    size=\"MSSS\",\n",
    "                    color='Sex',\n",
    "                    trendline=\"ols\",\n",
    "                    labels={\n",
    "                     \"PM25\": \"Particulate Matter with a diameter of 2.5 microns or less (PM2.5)\"},\n",
    "                    title = \"Relationship Between PM2.5 and MSSS (0 for Female)\")\n",
    "figure.show()"
   ]
  },
  {
   "cell_type": "code",
   "execution_count": null,
   "id": "28c3b9ff",
   "metadata": {},
   "outputs": [],
   "source": [
    "figure = px.scatter(data_frame = data, \n",
    "                    x=\"N02\",\n",
    "                    y=\"MSSS\", \n",
    "                    size=\"MSSS\",\n",
    "                    color='Sex',\n",
    "                    trendline=\"ols\",\n",
    "                    labels={\"N02\": \"Nitrogen Dioxide (NO2)\"},\n",
    "                    title = \"Relationship Between NO2 and MSSS (0 for Female)\")\n",
    "figure.show()"
   ]
  },
  {
   "cell_type": "code",
   "execution_count": null,
   "id": "2dee01f9",
   "metadata": {},
   "outputs": [],
   "source": [
    "figure = px.scatter(data_frame = data, \n",
    "                    x=\"CO\",\n",
    "                    y=\"MSSS\", \n",
    "                    size=\"MSSS\",\n",
    "                    color='Sex',\n",
    "                    trendline=\"ols\",\n",
    "                    labels={\"CO\": \"Carbon Monoxide (CO)\"},\n",
    "                    title = \"Relationship Between Carbon Monoxide and MSSS (0 for Female)\")\n",
    "figure.show()"
   ]
  },
  {
   "cell_type": "code",
   "execution_count": null,
   "id": "bb5d04f3",
   "metadata": {},
   "outputs": [],
   "source": [
    "figure = px.scatter(data_frame = data, \n",
    "                    x=\"O3\",\n",
    "                    y=\"MSSS\", \n",
    "                    size=\"MSSS\",\n",
    "                    color='Sex',\n",
    "                    trendline=\"ols\",\n",
    "                    labels={\"O3\": \"Ozone (O3)\"},\n",
    "                    title = \"Relationship Between O3 and MSSS (0 for Female)\")\n",
    "figure.show()"
   ]
  },
  {
   "cell_type": "code",
   "execution_count": null,
   "id": "e0aff8ec",
   "metadata": {},
   "outputs": [],
   "source": [
    "figure = px.scatter(data_frame = data, \n",
    "                    x=\"SO2\",\n",
    "                    y=\"MSSS\", \n",
    "                    size=\"MSSS\",\n",
    "                    color='Sex',\n",
    "                    trendline=\"ols\",\n",
    "                    labels={\"SO2\": \"Sulfur Dioxide (SO2)\"},\n",
    "                    title = \"Relationship Between SO2 and MSSS (0 for Female)\")\n",
    "figure.show()"
   ]
  },
  {
   "cell_type": "code",
   "execution_count": null,
   "id": "9a3b5a20",
   "metadata": {},
   "outputs": [],
   "source": [
    "figure = px.scatter(data_frame = data, \n",
    "                    x=\"PP\",\n",
    "                    y=\"MSSS\", \n",
    "                    size=\"MSSS\",\n",
    "                    color='Sex',\n",
    "                    trendline=\"ols\",\n",
    "                    labels={\"PP\": \"Sea Level Pressure\"},\n",
    "                    title = \"Relationship Between Sea level pressure and MSSS (0 for Female)\")\n",
    "figure.show()"
   ]
  },
  {
   "cell_type": "code",
   "execution_count": null,
   "id": "9f6b7275",
   "metadata": {},
   "outputs": [],
   "source": [
    "figure = px.scatter(data_frame = data, \n",
    "                    x=\"QQ\",\n",
    "                    y=\"MSSS\", \n",
    "                    size=\"MSSS\",\n",
    "                    color='Sex',\n",
    "                    trendline=\"ols\",\n",
    "                    labels={\"QQ\": \"Global Radiation\"},\n",
    "                    title = \"Relationship Between Global radiation and MSSS (0 for Female)\")\n",
    "figure.show()"
   ]
  },
  {
   "cell_type": "code",
   "execution_count": null,
   "id": "23e53563",
   "metadata": {},
   "outputs": [],
   "source": [
    "figure = px.scatter(data_frame = data, \n",
    "                    x=\"RR\",\n",
    "                    y=\"MSSS\", \n",
    "                    size=\"MSSS\",\n",
    "                    color='Sex',\n",
    "                    trendline=\"ols\",\n",
    "                    labels={\"RR\": \"Precipitation Sum\"},\n",
    "                    title = \"Relationship Between Precipitation Sum and MSSS (0 for Female)\")\n",
    "figure.show()"
   ]
  },
  {
   "cell_type": "code",
   "execution_count": null,
   "id": "08765d48",
   "metadata": {},
   "outputs": [],
   "source": [
    "figure = px.scatter(data_frame = data, \n",
    "                    x=\"TG\",\n",
    "                    y=\"MSSS\", \n",
    "                    size=\"MSSS\",\n",
    "                    color='Sex',\n",
    "                    trendline=\"ols\",\n",
    "                    labels={\"TG\": \"Mean Temprature\"},\n",
    "                    title = \"Relationship Between Mean Temprature and MSSS (0 for Female)\")\n",
    "figure.show()"
   ]
  },
  {
   "cell_type": "code",
   "execution_count": null,
   "id": "d96a20dc",
   "metadata": {},
   "outputs": [],
   "source": [
    "figure = px.scatter(data_frame = data, \n",
    "                    x=\"TN\",\n",
    "                    y=\"MSSS\", \n",
    "                    size=\"MSSS\",\n",
    "                    color='Sex',\n",
    "                    trendline=\"ols\",\n",
    "                    labels={\"TN\": \"Minimum Temprature\"},\n",
    "                    title = \"Relationship Between Minimum Temprature and MSSS (0 for Female)\")\n",
    "figure.show()"
   ]
  },
  {
   "cell_type": "code",
   "execution_count": null,
   "id": "10465b22",
   "metadata": {},
   "outputs": [],
   "source": [
    "figure = px.scatter(data_frame = data, \n",
    "                    x=\"TX\",\n",
    "                    y=\"MSSS\", \n",
    "                    size=\"MSSS\",\n",
    "                    color='Sex',\n",
    "                    trendline=\"ols\",\n",
    "                    labels={\"TX\": \"Maximum Temprature\"},\n",
    "                    title = \"Relationship Between Maximum Temprature and MSSS (0 for Female)\")\n",
    "figure.show()"
   ]
  },
  {
   "cell_type": "code",
   "execution_count": null,
   "id": "1248797c",
   "metadata": {},
   "outputs": [],
   "source": [
    "figure = px.scatter(data_frame = data, \n",
    "                    x=\"HU\",\n",
    "                    y=\"MSSS\", \n",
    "                    size=\"MSSS\",\n",
    "                    color='Sex',\n",
    "                    trendline=\"ols\",\n",
    "                    labels={\"HU\": \"Humidity\"},\n",
    "                    title = \"Relationship Between Humidity and MSSS (0 for Female)\")\n",
    "figure.show()"
   ]
  },
  {
   "cell_type": "code",
   "execution_count": null,
   "id": "03473dc8",
   "metadata": {},
   "outputs": [],
   "source": [
    "figure = px.scatter(data_frame = data, \n",
    "                    x=\"FG\",\n",
    "                    y=\"MSSS\", \n",
    "                    size=\"MSSS\",\n",
    "                    color='Sex',\n",
    "                    trendline=\"ols\",\n",
    "                    labels={\"FG\": \"Wind Speed\"},\n",
    "                    title = \"Relationship Between Humidity and MSSS (0 for Female)\")\n",
    "figure.show()"
   ]
  },
  {
   "cell_type": "code",
   "execution_count": null,
   "id": "f02cca89",
   "metadata": {},
   "outputs": [],
   "source": [
    "data.columns\n",
    "\n",
    "import plotly.graph_objects as go\n",
    "from plotly.subplots import make_subplots\n",
    "\n",
    "# Create subplots with the specified layout\n",
    "fig = make_subplots(\n",
    "    rows=4, cols=2,\n",
    "    column_widths=[0.6, 0.4],\n",
    "    row_heights=[0.25, 0.25, 0.25, 0.25],\n",
    "    specs=[\n",
    "        [{\"type\": \"scatter\"}, {\"type\": \"scatter\"}],\n",
    "        [{\"type\": \"scatter\"}, {\"type\": \"scatter\"}],\n",
    "        [{\"type\": \"scatter\"}, {\"type\": \"scatter\"}],\n",
    "        [{\"type\": \"scatter\"}, {\"type\": \"scatter\"}]\n",
    "    ],\n",
    "    subplot_titles=[\n",
    "        \"PP\", \"QQ\",\n",
    "        \"RR\", \"TG\",\n",
    "        \"TN\", \"TX\",\n",
    "        \"HU\", \"FG\"\n",
    "    ]\n",
    ")\n",
    "\n",
    "columns_and_positions = [\n",
    "    (\"PP\", 1, 1),\n",
    "    (\"Cerebellar\", 1, 2),\n",
    "    (\"Thronchioencephalic\", 2, 1),\n",
    "    (\"Sensitive\", 2, 2),\n",
    "    (\"Sphincteric\", 3, 1),\n",
    "    (\"Visual\", 3, 2),\n",
    "    (\"Mental\", 4, 1),\n",
    "    (\"Deambulation\", 4, 2),   \n",
    "]\n",
    "\n",
    "# Loop through each column and position to add traces\n",
    "for column, row, col in columns_and_positions:\n",
    "    fig.add_trace(\n",
    "        go.Scatter(\n",
    "            x=data[column], \n",
    "            y=data[\"MSSS\"],\n",
    "            mode='markers',\n",
    "            marker=dict(\n",
    "                size=data[\"MSSS\"],\n",
    "                color=data['Sex'],\n",
    "                showscale=True\n",
    "            )\n",
    "        ),\n",
    "        row=row, col=col\n",
    "    )\n",
    "\n",
    "# Update layout for better presentation\n",
    "fig.update_layout(\n",
    "    height=800,\n",
    "    width=800,\n",
    "    title_text=\"Multiple Subplots with MSSS\",\n",
    "    showlegend=False\n",
    ")\n",
    "\n",
    "fig.show()\n"
   ]
  }
 ],
 "metadata": {
  "kernelspec": {
   "display_name": "Python 3 (ipykernel)",
   "language": "python",
   "name": "python3"
  },
  "language_info": {
   "codemirror_mode": {
    "name": "ipython",
    "version": 3
   },
   "file_extension": ".py",
   "mimetype": "text/x-python",
   "name": "python",
   "nbconvert_exporter": "python",
   "pygments_lexer": "ipython3",
   "version": "3.7.9"
  }
 },
 "nbformat": 4,
 "nbformat_minor": 5
}
