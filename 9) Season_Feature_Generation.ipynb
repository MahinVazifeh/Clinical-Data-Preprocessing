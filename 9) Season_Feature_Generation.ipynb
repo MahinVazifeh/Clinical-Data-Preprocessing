{
 "cells": [
  {
   "cell_type": "code",
   "execution_count": null,
   "id": "bf4e9772",
   "metadata": {},
   "outputs": [],
   "source": [
    "import numpy as np\n",
    "import pandas as pd\n",
    "import plotly.express as px\n",
    "from plotly.subplots import make_subplots\n",
    "import plotly.graph_objects as go"
   ]
  },
  {
   "cell_type": "code",
   "execution_count": null,
   "id": "d6b6fad1",
   "metadata": {},
   "outputs": [],
   "source": [
    "path = \".../Final_data_visit_to_visit.csv\"\n",
    "data = pd.read_csv(path)\n",
    "data.dropna(subset=[\"MSSS\"], inplace = True)\n",
    "data.shape"
   ]
  },
  {
   "cell_type": "code",
   "execution_count": null,
   "id": "0a880e4d",
   "metadata": {},
   "outputs": [],
   "source": [
    "data['Date_of_visit'] = pd.to_datetime(data['Date_of_visit'],format ='%Y-%m-%d')\n",
    "data.head()\n"
   ]
  },
  {
   "cell_type": "code",
   "execution_count": null,
   "id": "900b17f6",
   "metadata": {},
   "outputs": [],
   "source": [
    "data[\"Season_visitdate\"] = data[\"Date_of_visit\"].apply(lambda x:\"Spring\" if x.month in [3,4,5] \n",
    "                                                       else(\"Summer\" if x.month in [6,7,8]\n",
    "                                                           else(\"Fall\" if x.month in [9,10,11]\n",
    "                                                                else \"Winter\")))\n",
    "fig = px.histogram(data, x=\"Season_visitdate\", nbins = 10,\n",
    "                  labels = {\"Season_visitdate\": \"Season in visit date\"})\n",
    "fig.show()\n",
    "\n",
    "\n",
    "data[\"Season_visitdate\"] = data[\"Season_visitdate\"].map({\"Spring\" : 1,\n",
    "                                                        \"Summer\" : 2,\n",
    "                                                        \"Fall\" : 3,\n",
    "                                                        \"Winter\" : 4})\n",
    "Spring_data = data[data[\"Season_visitdate\"] == 1]\n",
    "Summer_data = data[data[\"Season_visitdate\"] == 2]\n",
    "Fall_data = data[data[\"Season_visitdate\"] == 3]\n",
    "Winter_data = data[data[\"Season_visitdate\"] == 4]"
   ]
  },
  {
   "cell_type": "code",
   "execution_count": null,
   "id": "b3da6fa9",
   "metadata": {},
   "outputs": [],
   "source": [
    "Spring_data.to_csv(\"Spring_data.csv\", index = False)\n",
    "Summer_data.to_csv(\"Summer_data.csv\", index = False)\n",
    "Fall_data.to_csv(\"Fall_data.csv\", index = False)\n",
    "Winter_data.to_csv(\"Winter_data.csv\", index = False)"
   ]
  },
  {
   "cell_type": "code",
   "execution_count": null,
   "id": "3f39931f",
   "metadata": {},
   "outputs": [],
   "source": [
    "figure = px.scatter(data_frame = Winter_data, \n",
    "                    x=\"PM25\",\n",
    "                    y=\"TG\", \n",
    "                    size=\"MSSS\",\n",
    "                    color='Sex',\n",
    "                    trendline=\"ols\",\n",
    "                    title = \"Relationship Between O3 and Mean Tempreture (0 for Female)\")\n",
    "figure.show()"
   ]
  },
  {
   "cell_type": "code",
   "execution_count": null,
   "id": "5c00eecf",
   "metadata": {},
   "outputs": [],
   "source": [
    "fig = px.box(Summer_data, y=\"TG\")\n",
    "fig.show()"
   ]
  },
  {
   "cell_type": "code",
   "execution_count": null,
   "id": "07226dd8",
   "metadata": {},
   "outputs": [],
   "source": []
  }
 ],
 "metadata": {
  "kernelspec": {
   "display_name": "Python 3 (ipykernel)",
   "language": "python",
   "name": "python3"
  },
  "language_info": {
   "codemirror_mode": {
    "name": "ipython",
    "version": 3
   },
   "file_extension": ".py",
   "mimetype": "text/x-python",
   "name": "python",
   "nbconvert_exporter": "python",
   "pygments_lexer": "ipython3",
   "version": "3.7.9"
  }
 },
 "nbformat": 4,
 "nbformat_minor": 5
}
