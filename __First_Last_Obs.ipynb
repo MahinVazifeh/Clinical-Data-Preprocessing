{
 "cells": [
  {
   "cell_type": "code",
   "execution_count": null,
   "id": "db173136",
   "metadata": {},
   "outputs": [],
   "source": [
    "import pandas as pd\n",
    "import numpy as np"
   ]
  },
  {
   "cell_type": "code",
   "execution_count": null,
   "id": "bd44af06",
   "metadata": {},
   "outputs": [],
   "source": [
    "data = pd.read_csv(\".../Updated_MS_14000.csv\")\n",
    "data.head()"
   ]
  },
  {
   "cell_type": "code",
   "execution_count": null,
   "id": "d5824c60",
   "metadata": {},
   "outputs": [],
   "source": [
    "postcode = pd.read_csv(\"C:/Users/Mahin Vazifehdan/Desktop/Git_Learning/MSSS_on_FSscores/Patient_CAP.csv\")\n",
    "onset = pd.read_csv(\"C:/Users/Mahin Vazifehdan/Desktop/Git_Learning/MSSS_on_FSscores/Onset_date.csv\")\n",
    "Clinical_data_with_CAP = pd.merge(data,postcode, left_on=\"Patient_ID\", right_on=\"Paziente ID\", how = \"left\")\n",
    "Clinical_data_with_CAP = pd.merge(Clinical_data_with_CAP,onset, left_on=\"Patient_ID\", right_on=\"Patient_id\", how = \"left\")\n",
    "Clinical_data_with_CAP.drop([\"Paziente ID\",\"Patient_id\"], axis= 1, inplace = True)\n",
    "Clinical_data_with_CAP.rename(columns={\"Data di nascita\": \"Date_of_Birth\",\"Onset_date\": \"Date_of_Onset\"}, inplace=True)\n",
    "Clinical_data_with_CAP.drop(Clinical_data_with_CAP[Clinical_data_with_CAP[\"CAP\"].isnull()]\n",
    "                            .index, inplace = True)\n",
    "Clinical_data_with_CAP['Date_of_visit'] = pd.to_datetime(Clinical_data_with_CAP['Date_of_visit'],\n",
    "                                                         format ='%Y-%m-%d')\n",
    "Clinical_data_with_CAP['Date_of_Onset'] = pd.to_datetime(Clinical_data_with_CAP['Date_of_Onset'],\n",
    "                                                         format ='%Y-%m-%d')\n",
    "Clinical_data_with_CAP[\"CAP\"] = Clinical_data_with_CAP[\"CAP\"].astype(int)\n",
    "\n",
    "first = Clinical_data_with_CAP.groupby('Patient_ID').head(1)\n",
    "last = Clinical_data_with_CAP.groupby('Patient_ID').tail(1)\n",
    "result = pd.concat([first,last]).drop_duplicates().sort_values(by=['Patient_ID','Date_of_visit'])\n",
    "\n",
    "result = result[['Patient_ID','CAP','Date_of_Birth','Date_of_Onset','Date_of_visit']]\n",
    "result.head()"
   ]
  },
  {
   "cell_type": "code",
   "execution_count": null,
   "id": "983afcc1",
   "metadata": {},
   "outputs": [],
   "source": [
    "df_grouped = result.groupby('Patient_ID')['Date_of_visit'].agg(First_Date_of_visit='min',\n",
    "                                                               Last_Date_of_visit='max').reset_index()\n",
    "df_grouped.head()"
   ]
  },
  {
   "cell_type": "code",
   "execution_count": null,
   "id": "ec70db39",
   "metadata": {},
   "outputs": [],
   "source": [
    "Clinical_data_with_CAP = pd.merge(result,df_grouped, left_on=\"Patient_ID\", right_on=\"Patient_ID\", how = \"left\")\n",
    "result = Clinical_data_with_CAP.groupby('Patient_ID').head(1).reset_index()\n",
    "result[['Patient_ID','CAP','Date_of_Birth','Date_of_Onset','First_Date_of_visit','Last_Date_of_visit']].to_csv(\"First_Last_Patient.csv\", index = False)"
   ]
  }
 ],
 "metadata": {
  "kernelspec": {
   "display_name": "Python 3 (ipykernel)",
   "language": "python",
   "name": "python3"
  },
  "language_info": {
   "codemirror_mode": {
    "name": "ipython",
    "version": 3
   },
   "file_extension": ".py",
   "mimetype": "text/x-python",
   "name": "python",
   "nbconvert_exporter": "python",
   "pygments_lexer": "ipython3",
   "version": "3.7.9"
  }
 },
 "nbformat": 4,
 "nbformat_minor": 5
}
