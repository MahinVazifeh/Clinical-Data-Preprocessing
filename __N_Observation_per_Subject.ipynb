{
 "cells": [
  {
   "cell_type": "code",
   "execution_count": null,
   "id": "4dfe4a4b",
   "metadata": {},
   "outputs": [],
   "source": [
    "import pandas as pd\n",
    "import numpy as np"
   ]
  },
  {
   "cell_type": "code",
   "execution_count": null,
   "id": "787f16f4",
   "metadata": {},
   "outputs": [],
   "source": [
    "Path = \"/Updated_MS_14000.csv\"\n",
    "data = pd.read_csv(Path)\n",
    "data.head()"
   ]
  },
  {
   "cell_type": "code",
   "execution_count": null,
   "id": "16f7d35d",
   "metadata": {},
   "outputs": [],
   "source": [
    "# Identify Patient_IDs with at least 3 records\n",
    "valid_patient_ids = data.groupby(\"Patient_ID\").filter(lambda x: len(x) >= 10)[\"Patient_ID\"].unique() \n",
    "\n",
    "# Filter the original DataFrame based on these Patient_IDs\n",
    "result = data[data[\"Patient_ID\"].isin(valid_patient_ids)]\n",
    "\n",
    "# Give me the last 5 observations\n",
    "last_ten_per_patient = result.groupby(\"Patient_ID\").tail(10)\n",
    "\n",
    "# Size of the desired dataset\n",
    "last_ten_per_patient.shape\n"
   ]
  },
  {
   "cell_type": "code",
   "execution_count": null,
   "id": "82f60520",
   "metadata": {},
   "outputs": [],
   "source": [
    "last_ten_per_patient.to_csv(\"10_Observation_per_patients.csv\")"
   ]
  }
 ],
 "metadata": {
  "kernelspec": {
   "display_name": "Python 3 (ipykernel)",
   "language": "python",
   "name": "python3"
  },
  "language_info": {
   "codemirror_mode": {
    "name": "ipython",
    "version": 3
   },
   "file_extension": ".py",
   "mimetype": "text/x-python",
   "name": "python",
   "nbconvert_exporter": "python",
   "pygments_lexer": "ipython3",
   "version": "3.7.9"
  }
 },
 "nbformat": 4,
 "nbformat_minor": 5
}
